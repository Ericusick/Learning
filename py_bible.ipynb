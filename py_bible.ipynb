{
 "cells": [
  {
   "cell_type": "markdown",
   "metadata": {},
   "source": [
    "## Intro"
   ]
  },
  {
   "cell_type": "markdown",
   "metadata": {},
   "source": [
    "This notebook is used to work on mini projects found throughout the [Python Bible](https://www.udemy.com/course/the-python-bible/) udemy course"
   ]
  },
  {
   "cell_type": "markdown",
   "metadata": {},
   "source": [
    "## Project 2: Hello You!"
   ]
  },
  {
   "cell_type": "code",
   "execution_count": 2,
   "metadata": {},
   "outputs": [
    {
     "name": "stdout",
     "output_type": "stream",
     "text": [
      "What is your name?: Eric\n",
      "What is you age?: 24\n",
      "What city do you live in?: Warsaw\n",
      "What do you enjoy doing?: mountain biking\n",
      "Your name is Eric and you are 24 years old. You live in Warsaw and you love mountain biking\n"
     ]
    }
   ],
   "source": [
    "#Ask user for name\n",
    "name = input(\"What is your name?: \")\n",
    "\n",
    "#Ask user for age\n",
    "age = input(\"What is you age?: \")\n",
    "\n",
    "#Ask user for city\n",
    "city = input(\"What city do you live in?: \")\n",
    "\n",
    "#Ask user what they enjoy\n",
    "enjoy = input(\"What do you enjoy doing?: \")\n",
    "              \n",
    "#Create output text\n",
    "string = \"Your name is {} and you are {} years old. You live in {} and you love {}\"\n",
    "output = string.format(name, age, city, enjoy)\n",
    "\n",
    "#Print ouput to screen\n",
    "print(output)"
   ]
  },
  {
   "cell_type": "markdown",
   "metadata": {},
   "source": [
    "## Project 3: Email Slicer"
   ]
  },
  {
   "cell_type": "markdown",
   "metadata": {},
   "source": [
    "### Slice practice"
   ]
  },
  {
   "cell_type": "code",
   "execution_count": 5,
   "metadata": {},
   "outputs": [
    {
     "data": {
      "text/plain": [
       "'p'"
      ]
     },
     "execution_count": 5,
     "metadata": {},
     "output_type": "execute_result"
    }
   ],
   "source": [
    "word = 'supercalifragilisticexpialidocious'\n",
    "word[2]"
   ]
  },
  {
   "cell_type": "code",
   "execution_count": 4,
   "metadata": {},
   "outputs": [
    {
     "data": {
      "text/plain": [
       "'supercalifragilisticexpialidocious'"
      ]
     },
     "execution_count": 4,
     "metadata": {},
     "output_type": "execute_result"
    }
   ],
   "source": [
    "word"
   ]
  },
  {
   "cell_type": "code",
   "execution_count": 6,
   "metadata": {},
   "outputs": [
    {
     "data": {
      "text/plain": [
       "'super'"
      ]
     },
     "execution_count": 6,
     "metadata": {},
     "output_type": "execute_result"
    }
   ],
   "source": [
    "#var[start : end : step]\n",
    "word[0:5:1]"
   ]
  },
  {
   "cell_type": "code",
   "execution_count": 10,
   "metadata": {},
   "outputs": [
    {
     "data": {
      "text/plain": [
       "'clfaiitcxildcos'"
      ]
     },
     "execution_count": 10,
     "metadata": {},
     "output_type": "execute_result"
    }
   ],
   "source": [
    "word[5::2]"
   ]
  },
  {
   "cell_type": "code",
   "execution_count": 16,
   "metadata": {
    "scrolled": true
   },
   "outputs": [
    {
     "data": {
      "text/plain": [
       "'supercal'"
      ]
     },
     "execution_count": 16,
     "metadata": {},
     "output_type": "execute_result"
    }
   ],
   "source": [
    "word[:8]"
   ]
  },
  {
   "cell_type": "code",
   "execution_count": 17,
   "metadata": {
    "scrolled": true
   },
   "outputs": [
    {
     "data": {
      "text/plain": [
       "'suoicodilaipxecitsiligarfilacrepus'"
      ]
     },
     "execution_count": 17,
     "metadata": {},
     "output_type": "execute_result"
    }
   ],
   "source": [
    "word[::-1]"
   ]
  },
  {
   "cell_type": "code",
   "execution_count": 21,
   "metadata": {},
   "outputs": [
    {
     "name": "stdout",
     "output_type": "stream",
     "text": [
      "establishment\n"
     ]
    }
   ],
   "source": [
    "#Slice out'establishment' from the word\n",
    "vocab = 'antidisestablishmentarianism'\n",
    "answer = vocab[vocab.index('establishment'):vocab.index('ari')]\n",
    "print(answer)"
   ]
  },
  {
   "cell_type": "markdown",
   "metadata": {},
   "source": [
    "### Email"
   ]
  },
  {
   "cell_type": "code",
   "execution_count": 22,
   "metadata": {
    "scrolled": true
   },
   "outputs": [
    {
     "name": "stdout",
     "output_type": "stream",
     "text": [
      "What is your email address?: pythonking@codemaster.com\n",
      "Your username is pythonking and your domain name is codemaster.com\n"
     ]
    }
   ],
   "source": [
    "#get user email address\n",
    "email = input(\"What is your email address?: \").strip()\n",
    "\n",
    "#slice out user name\n",
    "user = email[:email.index('@')]\n",
    "\n",
    "#slice domain name\n",
    "domain = email[email.index('@') + 1:]\n",
    "\n",
    "#format message\n",
    "output = 'Your username is {} and your domain name is {}'.format(user, domain)\n",
    "\n",
    "#display output message\n",
    "print(output)"
   ]
  },
  {
   "cell_type": "markdown",
   "metadata": {},
   "source": [
    "## Project 4: Travis the Ridiculous Security System"
   ]
  },
  {
   "cell_type": "code",
   "execution_count": 6,
   "metadata": {
    "scrolled": true
   },
   "outputs": [
    {
     "name": "stdout",
     "output_type": "stream",
     "text": [
      "8\n"
     ]
    }
   ],
   "source": [
    "known_users = ['Alice', 'Bob', 'Claire', 'Dan', 'Emma', 'Fred', 'Georgie', 'Harry']\n",
    "print(len(known_users))"
   ]
  },
  {
   "cell_type": "code",
   "execution_count": null,
   "metadata": {},
   "outputs": [],
   "source": [
    "# while True:\n",
    "#     print('Hi! My name is Travis')\n",
    "#     name = input('What is your name?:').strip().capitalize()\n",
    "    \n",
    "#     if name in known_users:\n",
    "#         print('Hello {}!'.format(name))\n",
    "#         remove = input('Would you like to be removed from the system (y/n)?:').lower()\n",
    "              \n",
    "#         if remove == 'y':\n",
    "#             known_users.remove(name)\n",
    "#         elif remove == 'n':\n",
    "#             print(\"No problem, I didn't want you to leave anyway\")\n",
    "            \n",
    "#     else:\n",
    "#         print(\"Hmmm I don't think I have met you yet {}\".format(name))\n",
    "#         add_me = input(\"Would you like to be added to the system (y/n)?: \").strip().lower()\n",
    "        \n",
    "#         if add_me == 'y':\n",
    "#             known_users.append(name)\n",
    "#         elif add_me == 'n':\n",
    "#             print(\"No worries, see you around!\")\n",
    "            "
   ]
  },
  {
   "cell_type": "markdown",
   "metadata": {},
   "source": [
    "## Project 5: Cinema Simulator!"
   ]
  },
  {
   "cell_type": "code",
   "execution_count": 1,
   "metadata": {},
   "outputs": [],
   "source": [
    "films = {\"Finding Dory\": [3,5],\n",
    "        \"Bourne\": [18, 5],\n",
    "        \"Tarzan\":[15,5],\n",
    "        \"Ghost Busters\":[12,5]}"
   ]
  },
  {
   "cell_type": "code",
   "execution_count": 8,
   "metadata": {},
   "outputs": [],
   "source": [
    "# while True:\n",
    "    \n",
    "#     choice = input(\"What film would you like to watch?: \").strip().title()\n",
    "    \n",
    "#     if choice in films:\n",
    "#         age = int(input(\"How old are you?: \").strip())\n",
    "        \n",
    "#         #Check user age\n",
    "#         if age >= films[choice][0]:\n",
    "#             #Check enough seats\n",
    "        \n",
    "#             num_seats = films[choice][1]\n",
    "        \n",
    "#             if num_seats > 0:\n",
    "#                 print(\"Enjoy the film!\")\n",
    "#                 films[choice][1] = films[choice][1] - 1\n",
    "#             else:\n",
    "#                 print(\"Sorry, we are sold out!\")\n",
    "#         else:\n",
    "#             print(\"You are too young to watch the film!\")\n",
    "#     else: \n",
    "#         print(\"We don't have that film...\")"
   ]
  },
  {
   "cell_type": "markdown",
   "metadata": {},
   "source": [
    "## Project 6: Baby Conversation Simulator"
   ]
  },
  {
   "cell_type": "code",
   "execution_count": 2,
   "metadata": {},
   "outputs": [],
   "source": [
    "from random import choice"
   ]
  },
  {
   "cell_type": "code",
   "execution_count": 6,
   "metadata": {
    "scrolled": true
   },
   "outputs": [
    {
     "name": "stdout",
     "output_type": "stream",
     "text": [
      "Where are all the dinosaurs: The moon blew them up\n",
      "Why?: cause the moon hated them\n",
      "Why?: just because\n",
      "Oh... Okay\n"
     ]
    }
   ],
   "source": [
    "questions = ['Why is the sky blue?: ', 'Is the moon made of cheese?: ', \n",
    "             'Where are all the dinosaurs: ']\n",
    "\n",
    "question = choice(questions)\n",
    "answer = input(question).lower()\n",
    "\n",
    "while answer != \"just because\": \n",
    "    answer = input(\"Why?: \").strip().lower()\n",
    "    \n",
    "print('Oh... Okay')"
   ]
  },
  {
   "cell_type": "markdown",
   "metadata": {},
   "source": [
    "### Loops Examples"
   ]
  },
  {
   "cell_type": "code",
   "execution_count": 10,
   "metadata": {
    "scrolled": true
   },
   "outputs": [
    {
     "name": "stdout",
     "output_type": "stream",
     "text": [
      "0\n",
      "5\n",
      "10\n",
      "15\n",
      "20\n",
      "25\n",
      "30\n",
      "35\n",
      "40\n",
      "45\n",
      "50\n",
      "55\n",
      "60\n",
      "65\n",
      "70\n",
      "75\n",
      "80\n",
      "85\n",
      "90\n",
      "95\n",
      "100\n",
      "105\n",
      "110\n",
      "115\n",
      "120\n",
      "125\n",
      "130\n",
      "135\n",
      "140\n",
      "145\n",
      "150\n",
      "155\n",
      "160\n",
      "165\n",
      "170\n",
      "175\n",
      "180\n",
      "185\n",
      "190\n",
      "195\n",
      "200\n",
      "205\n",
      "210\n",
      "215\n",
      "220\n",
      "225\n",
      "230\n",
      "235\n",
      "240\n",
      "245\n",
      "250\n",
      "255\n",
      "260\n",
      "265\n",
      "270\n",
      "275\n",
      "280\n",
      "285\n",
      "290\n",
      "295\n",
      "300\n",
      "305\n",
      "310\n",
      "315\n",
      "320\n",
      "325\n",
      "330\n",
      "335\n",
      "340\n",
      "345\n",
      "350\n",
      "355\n",
      "360\n",
      "365\n",
      "370\n",
      "375\n",
      "380\n",
      "385\n",
      "390\n",
      "395\n",
      "400\n",
      "405\n",
      "410\n",
      "415\n",
      "420\n",
      "425\n",
      "430\n",
      "435\n",
      "440\n",
      "445\n",
      "450\n",
      "455\n",
      "460\n",
      "465\n",
      "470\n",
      "475\n",
      "480\n",
      "485\n",
      "490\n",
      "495\n",
      "500\n",
      "505\n",
      "510\n",
      "515\n",
      "520\n",
      "525\n",
      "530\n",
      "535\n",
      "540\n",
      "545\n",
      "550\n",
      "555\n",
      "560\n",
      "565\n",
      "570\n",
      "575\n",
      "580\n",
      "585\n",
      "590\n",
      "595\n",
      "600\n",
      "605\n",
      "610\n",
      "615\n",
      "620\n",
      "625\n",
      "630\n",
      "635\n",
      "640\n",
      "645\n",
      "650\n",
      "655\n",
      "660\n",
      "665\n",
      "670\n",
      "675\n",
      "680\n",
      "685\n",
      "690\n",
      "695\n",
      "700\n",
      "705\n",
      "710\n",
      "715\n",
      "720\n",
      "725\n",
      "730\n",
      "735\n",
      "740\n",
      "745\n",
      "750\n",
      "755\n",
      "760\n",
      "765\n",
      "770\n",
      "775\n",
      "780\n",
      "785\n",
      "790\n",
      "795\n",
      "800\n",
      "805\n",
      "810\n",
      "815\n",
      "820\n",
      "825\n",
      "830\n",
      "835\n",
      "840\n",
      "845\n",
      "850\n",
      "855\n",
      "860\n",
      "865\n",
      "870\n",
      "875\n",
      "880\n",
      "885\n",
      "890\n",
      "895\n",
      "900\n",
      "905\n",
      "910\n",
      "915\n",
      "920\n",
      "925\n",
      "930\n",
      "935\n",
      "940\n",
      "945\n",
      "950\n",
      "955\n",
      "960\n",
      "965\n",
      "970\n",
      "975\n",
      "980\n",
      "985\n",
      "990\n",
      "995\n",
      "1000\n"
     ]
    }
   ],
   "source": [
    "for number in range(0,1001, 5):\n",
    "    print(number)"
   ]
  },
  {
   "cell_type": "code",
   "execution_count": 11,
   "metadata": {
    "scrolled": true
   },
   "outputs": [
    {
     "name": "stdout",
     "output_type": "stream",
     "text": [
      "There are 16 vowels\n",
      "There are 18 consonants\n"
     ]
    }
   ],
   "source": [
    "vowels = 0\n",
    "consonants = 0\n",
    "\n",
    "for letter in 'supercalifragilisticexpialidocious':\n",
    "    if letter.lower() in \"aeiou\":\n",
    "        vowels = vowels + 1\n",
    "    elif letter == ' ':\n",
    "        pass\n",
    "    else:\n",
    "        consonants = consonants + 1\n",
    "        \n",
    "print(\"There are {} vowels\".format(vowels))\n",
    "print(\"There are {} consonants\".format(consonants))"
   ]
  },
  {
   "cell_type": "code",
   "execution_count": 13,
   "metadata": {},
   "outputs": [
    {
     "name": "stdout",
     "output_type": "stream",
     "text": [
      "Charlie\n",
      "Harry\n",
      "Frank\n",
      "Sarah\n",
      "Huda\n",
      "Samantha\n",
      "Elizabeth\n"
     ]
    }
   ],
   "source": [
    "students = {\n",
    "    'male':['Tom', 'Charlie', 'Harry', 'Frank'],\n",
    "    'female':['Sarah', 'Huda', 'Samantha', 'Emily', 'Elizabeth']\n",
    "}\n",
    "\n",
    "for key in students.keys():\n",
    "    for name in students[key]:\n",
    "        if 'a' in name:\n",
    "            print(name)"
   ]
  },
  {
   "cell_type": "code",
   "execution_count": 14,
   "metadata": {
    "scrolled": true
   },
   "outputs": [
    {
     "name": "stdout",
     "output_type": "stream",
     "text": [
      "[2, 4, 6, 8, 10, 12, 14, 16, 18, 20, 22, 24, 26, 28, 30, 32, 34, 36, 38, 40, 42, 44, 46, 48, 50, 52, 54, 56, 58, 60, 62, 64, 66, 68, 70, 72, 74, 76, 78, 80, 82, 84, 86, 88, 90, 92, 94, 96, 98, 100]\n"
     ]
    }
   ],
   "source": [
    "even_numbers = [x for x in range(1,101) if x % 2 == 0]\n",
    "print(even_numbers)"
   ]
  },
  {
   "cell_type": "code",
   "execution_count": 15,
   "metadata": {
    "scrolled": true
   },
   "outputs": [
    {
     "name": "stdout",
     "output_type": "stream",
     "text": [
      "[1, 3, 5, 7, 9, 11, 13, 15, 17, 19, 21, 23, 25, 27, 29, 31, 33, 35, 37, 39, 41, 43, 45, 47, 49, 51, 53, 55, 57, 59, 61, 63, 65, 67, 69, 71, 73, 75, 77, 79, 81, 83, 85, 87, 89, 91, 93, 95, 97, 99]\n"
     ]
    }
   ],
   "source": [
    "odd_numbers = [x for x in range(1,101) if x % 2 != 0]\n",
    "print(odd_numbers)"
   ]
  },
  {
   "cell_type": "code",
   "execution_count": 16,
   "metadata": {},
   "outputs": [
    {
     "name": "stdout",
     "output_type": "stream",
     "text": [
      "[['THE', 'the', 3], ['QUICK', 'quick', 5], ['BROWN', 'brown', 5], ['FOX', 'fox', 3], ['JUMPS', 'jumps', 5], ['OVER', 'over', 4], ['THE', 'the', 3], ['LAZY', 'lazy', 4], ['DOG', 'dog', 3]]\n"
     ]
    }
   ],
   "source": [
    "words = ['the', 'quick', 'brown', 'fox', 'jumps', 'over', 'the', 'lazy', 'dog']\n",
    "anwers = [[w.upper(), w.lower(), len(w)] for w in words]\n",
    "print(anwers)"
   ]
  },
  {
   "cell_type": "markdown",
   "metadata": {},
   "source": [
    "## Project 7: Pig Latin Translator"
   ]
  },
  {
   "cell_type": "code",
   "execution_count": 19,
   "metadata": {
    "scrolled": true
   },
   "outputs": [
    {
     "name": "stdout",
     "output_type": "stream",
     "text": [
      "Please enter a sentence: Hello my name is Eric and I like to mountain bike\n",
      "ellohay myay amenay isyay ericyay andyay iyay ikelay otay ountainmay ikebay\n"
     ]
    }
   ],
   "source": [
    "#get sentence from user\n",
    "original = input(\"Please enter a sentence: \").strip().lower()\n",
    "\n",
    "#split sentence into words\n",
    "words = original.split()\n",
    "\n",
    "#loop through words and convert to pig lation\n",
    "new_words = []\n",
    "\n",
    "for word in words:\n",
    "    if word[0] in 'aeiou':\n",
    "        new_word = word + 'yay'\n",
    "        new_words.append(new_word)\n",
    "    else: \n",
    "        vowel_pos = 0\n",
    "        for letter in word:\n",
    "            if letter not in 'aeiou':\n",
    "                vowel_pos = vowel_pos + 1\n",
    "            else:\n",
    "                break\n",
    "        cons = word[:vowel_pos]\n",
    "        the_rest = word[vowel_pos:]\n",
    "        new_word = the_rest + cons + 'ay'\n",
    "        new_words.append(new_word)\n",
    "\n",
    "#stick words back together\n",
    "output = ' '.join(new_words)\n",
    "\n",
    "#output the final string\n",
    "print(output)"
   ]
  },
  {
   "cell_type": "markdown",
   "metadata": {},
   "source": [
    "## Project 8: Tic Tac Toes Game!"
   ]
  },
  {
   "cell_type": "code",
   "execution_count": 16,
   "metadata": {
    "scrolled": false
   },
   "outputs": [
    {
     "name": "stdout",
     "output_type": "stream",
     "text": [
      "\n",
      "| | | |\n",
      "| | | |\n",
      "| | | |\n",
      "\n"
     ]
    }
   ],
   "source": [
    "board = [' ' for i in range(9)]\n",
    "\n",
    "def print_board():\n",
    "    row1 = \"|{}|{}|{}|\".format(board[0], board[1], board[2])\n",
    "    row2 = \"|{}|{}|{}|\".format(board[3], board[4], board[5])\n",
    "    row3 = \"|{}|{}|{}|\".format(board[6], board[7], board[8])\n",
    "    \n",
    "    print()\n",
    "    print(row1)\n",
    "    print(row2)\n",
    "    print(row3)\n",
    "    print()\n",
    "\n",
    "print_board()"
   ]
  },
  {
   "cell_type": "code",
   "execution_count": 17,
   "metadata": {},
   "outputs": [],
   "source": [
    "def player_move(icon):\n",
    "    if icon == \"X\":\n",
    "        number = 1\n",
    "    elif icon == \"O\":\n",
    "        number = 2\n",
    "        \n",
    "    print('Your turn player {}'.format(number))\n",
    "    \n",
    "    choice = int(input(\"Enter your move(1-9): \").strip())\n",
    "    if board[choice - 1] == ' ':\n",
    "        board[choice - 1] = icon\n",
    "    else:\n",
    "        print()\n",
    "        print(\"That space is taken!\")"
   ]
  },
  {
   "cell_type": "code",
   "execution_count": 18,
   "metadata": {},
   "outputs": [],
   "source": [
    "def is_victory(icon):\n",
    "    if (board[0] == icon and board[1] == icon and board[2] == icon) or \\\n",
    "    (board[3] == icon and board[4] == icon and board[5] == icon) or \\\n",
    "    (board[6] == icon and board[7] == icon and board[8] == icon) or \\\n",
    "    (board[0] == icon and board[3] == icon and board[6] == icon) or \\\n",
    "    (board[1] == icon and board[4] == icon and board[7] == icon) or \\\n",
    "    (board[2] == icon and board[5] == icon and board[8] == icon) or \\\n",
    "    (board[0] == icon and board[4] == icon and board[8] == icon) or \\\n",
    "    (board[2] == icon and board[4] == icon and board[6] == icon):\n",
    "        return True\n",
    "    else:\n",
    "        return False"
   ]
  },
  {
   "cell_type": "code",
   "execution_count": 19,
   "metadata": {},
   "outputs": [],
   "source": [
    "def is_draw():\n",
    "    if \" \" not in board:\n",
    "        return True\n",
    "    else:\n",
    "        return False"
   ]
  },
  {
   "cell_type": "code",
   "execution_count": 20,
   "metadata": {
    "scrolled": true
   },
   "outputs": [
    {
     "name": "stdout",
     "output_type": "stream",
     "text": [
      "\n",
      "| | | |\n",
      "| | | |\n",
      "| | | |\n",
      "\n",
      "Your turn player 1\n",
      "Enter your move(1-9): 1\n",
      "\n",
      "|X| | |\n",
      "| | | |\n",
      "| | | |\n",
      "\n",
      "Your turn player 2\n",
      "Enter your move(1-9): 2\n",
      "\n",
      "|X|O| |\n",
      "| | | |\n",
      "| | | |\n",
      "\n",
      "Your turn player 1\n",
      "Enter your move(1-9): 4\n",
      "\n",
      "|X|O| |\n",
      "|X| | |\n",
      "| | | |\n",
      "\n",
      "Your turn player 2\n",
      "Enter your move(1-9): 7\n",
      "\n",
      "|X|O| |\n",
      "|X| | |\n",
      "|O| | |\n",
      "\n",
      "Your turn player 1\n",
      "Enter your move(1-9): 3\n",
      "\n",
      "|X|O|X|\n",
      "|X| | |\n",
      "|O| | |\n",
      "\n",
      "Your turn player 2\n",
      "Enter your move(1-9): 5\n",
      "\n",
      "|X|O|X|\n",
      "|X|O| |\n",
      "|O| | |\n",
      "\n",
      "Your turn player 1\n",
      "Enter your move(1-9): 8\n",
      "\n",
      "|X|O|X|\n",
      "|X|O| |\n",
      "|O|X| |\n",
      "\n",
      "Your turn player 2\n",
      "Enter your move(1-9): 9\n",
      "\n",
      "|X|O|X|\n",
      "|X|O| |\n",
      "|O|X|O|\n",
      "\n",
      "Your turn player 1\n",
      "Enter your move(1-9): 6\n",
      "\n",
      "|X|O|X|\n",
      "|X|O|X|\n",
      "|O|X|O|\n",
      "\n",
      "Its a draw!\n"
     ]
    }
   ],
   "source": [
    "while True:\n",
    "    print_board()\n",
    "    player_move(\"X\")\n",
    "    print_board()\n",
    "    if is_victory(\"X\"):\n",
    "        print(\"X Wins! Congratulations!\")\n",
    "        break\n",
    "    elif is_draw():\n",
    "        print('Its a draw!')\n",
    "        break\n",
    "    player_move(\"O\")\n",
    "    if is_victory(\"O\"):\n",
    "        print_board()\n",
    "        print(\"O Wins! Congratulations!\")\n",
    "        break\n",
    "    elif is_draw():\n",
    "        print('Its a draw!')\n",
    "        break"
   ]
  },
  {
   "cell_type": "markdown",
   "metadata": {},
   "source": [
    "## Project 9: Make Your Own Coin!"
   ]
  },
  {
   "cell_type": "code",
   "execution_count": 37,
   "metadata": {},
   "outputs": [],
   "source": [
    "import random as r"
   ]
  },
  {
   "cell_type": "code",
   "execution_count": 47,
   "metadata": {},
   "outputs": [],
   "source": [
    "class Coin:\n",
    "    def __init__(self, rare = False, clean = True, heads = True, **kwargs):\n",
    "    \n",
    "        for key, value in kwargs.items():\n",
    "            setattr(self, key, value)\n",
    "        \n",
    "    \n",
    "        self.is_rare = rare\n",
    "        self.is_clean = clean\n",
    "        self.heads = heads\n",
    "    \n",
    "        if self.is_rare:\n",
    "            self.value = self.original_value * 1.25\n",
    "        else:\n",
    "            self.value = self.original_value\n",
    "        \n",
    "        if self.is_clean:\n",
    "            self.color = self.clean_color\n",
    "        else:\n",
    "            self.color = self.rusty_color\n",
    "        \n",
    "    def rust(self):\n",
    "        self.color = self.rusty_color\n",
    "        \n",
    "    def clean(self):\n",
    "        self.color = self.clean_color\n",
    "        \n",
    "    def __del__(self):\n",
    "        print(\"Coin Spent!\")\n",
    "        \n",
    "    def flip(self):\n",
    "        heads_options = [True, False]\n",
    "        choice = r.choice(heads_options)\n",
    "        self.heads = choice\n",
    "        \n",
    "    def __str__(self):\n",
    "        if self.original_value >= 1.00:\n",
    "            return \"£{} coin\".format(int(self.original_value))\n",
    "        else:\n",
    "            return \"{}p Coin\".format(int(self.original_value * 100))"
   ]
  },
  {
   "cell_type": "code",
   "execution_count": 48,
   "metadata": {},
   "outputs": [],
   "source": [
    "class One_pence(Coin):\n",
    "    def __init__(self):\n",
    "        data = {\n",
    "            \"original_value\": 0.01,\n",
    "            \"clean_color\": 'bronze',\n",
    "            \"rusty_color\": 'brownish',\n",
    "            \"num_edge\": 1,\n",
    "            \"diameter\": 20.3,\n",
    "            \"thickness\": 1.52,\n",
    "            \"mass\": 3.56\n",
    "            }\n",
    "        super().__init__(**data)"
   ]
  },
  {
   "cell_type": "code",
   "execution_count": 49,
   "metadata": {},
   "outputs": [],
   "source": [
    "class Five_pence(Coin):\n",
    "    def __init__(self):\n",
    "        data = {\n",
    "            \"original_value\": 0.05,\n",
    "            \"clean_color\": 'silver',\n",
    "            \"rusty_color\": None,\n",
    "            \"num_edge\": 1,\n",
    "            \"diameter\": 18.0,\n",
    "            \"thickness\": 1.77,\n",
    "            \"mass\": 3.25\n",
    "            }\n",
    "        super().__init__(**data)\n",
    "        \n",
    "        def rust(self):\n",
    "            self.color = self.clean_color\n",
    "            \n",
    "        def clean(self):\n",
    "            self.color = self.clean_color"
   ]
  },
  {
   "cell_type": "code",
   "execution_count": 50,
   "metadata": {},
   "outputs": [],
   "source": [
    "class Ten_pence(Coin):\n",
    "    def __init__(self):\n",
    "        data = {\n",
    "            \"original_value\": 0.10,\n",
    "            \"clean_color\": 'silver',\n",
    "            \"rusty_color\": None,\n",
    "            \"num_edge\": 1,\n",
    "            \"diameter\": 24.5,\n",
    "            \"thickness\": 1.85,\n",
    "            \"mass\": 6.50\n",
    "            }\n",
    "        super().__init__(**data)\n",
    "        \n",
    "        def rust(self):\n",
    "            self.color = self.clean_color\n",
    "            \n",
    "        def clean(self):\n",
    "            self.color = self.clean_color"
   ]
  },
  {
   "cell_type": "code",
   "execution_count": 51,
   "metadata": {},
   "outputs": [],
   "source": [
    "class Twenty_pence(Coin):\n",
    "    def __init__(self):\n",
    "        data = {\n",
    "            \"original_value\": 0.20,\n",
    "            \"clean_color\": 'silver',\n",
    "            \"rusty_color\": None,\n",
    "            \"num_edge\": 7,\n",
    "            \"diameter\": 21.4,\n",
    "            \"thickness\": 1.70,\n",
    "            \"mass\": 5.00\n",
    "            }\n",
    "        super().__init__(**data)\n",
    "        \n",
    "        def rust(self):\n",
    "            self.color = self.clean_color\n",
    "            \n",
    "        def clean(self):\n",
    "            self.color = self.clean_color"
   ]
  },
  {
   "cell_type": "code",
   "execution_count": 52,
   "metadata": {},
   "outputs": [],
   "source": [
    "class Fifty_pence(Coin):\n",
    "    def __init__(self):\n",
    "        data = {\n",
    "            \"original_value\": 0.50,\n",
    "            \"clean_color\": 'silver',\n",
    "            \"rusty_color\": None,\n",
    "            \"num_edge\": 7,\n",
    "            \"diameter\": 27.3,\n",
    "            \"thickness\": 1.78,\n",
    "            \"mass\": 8.00\n",
    "            }\n",
    "        super().__init__(**data)\n",
    "        \n",
    "        def rust(self):\n",
    "            self.color = self.clean_color\n",
    "            \n",
    "        def clean(self):\n",
    "            self.color = self.clean_color"
   ]
  },
  {
   "cell_type": "code",
   "execution_count": 53,
   "metadata": {},
   "outputs": [],
   "source": [
    "class One_Pound(Coin):\n",
    "    def __init__(self):\n",
    "        data = {\n",
    "            \"original_value\": 1.00,\n",
    "            \"clean_color\": 'gold',\n",
    "            \"rusty_color\": 'greenish',\n",
    "            \"num_edge\": 1,\n",
    "            \"diameter\": 22.5,\n",
    "            \"thickness\": 3.15,\n",
    "            \"mass\": 9.5\n",
    "            }\n",
    "        super().__init__(**data)"
   ]
  },
  {
   "cell_type": "code",
   "execution_count": 54,
   "metadata": {},
   "outputs": [],
   "source": [
    "class Two_Pound(Coin):\n",
    "    def __init__(self):\n",
    "        data = {\n",
    "            \"original_value\": 2.00,\n",
    "            \"clean_color\": 'gold & silver',\n",
    "            \"rusty_color\": 'greenish',\n",
    "            \"num_edge\": 1,\n",
    "            \"diameter\": 28.4,\n",
    "            \"thickness\": 2.50,\n",
    "            \"mass\": 12.00\n",
    "            }\n",
    "        super().__init__(**data)"
   ]
  },
  {
   "cell_type": "code",
   "execution_count": 58,
   "metadata": {},
   "outputs": [
    {
     "name": "stdout",
     "output_type": "stream",
     "text": [
      "Coin Spent!\n",
      "Coin Spent!\n",
      "Coin Spent!\n",
      "Coin Spent!\n",
      "Coin Spent!\n",
      "Coin Spent!\n"
     ]
    }
   ],
   "source": [
    "coins = [One_pence(), Five_pence(), Ten_pence(), Twenty_pence(),\n",
    "        Fifty_pence(), One_Pound(), Two_Pound()]"
   ]
  },
  {
   "cell_type": "code",
   "execution_count": 59,
   "metadata": {},
   "outputs": [
    {
     "name": "stdout",
     "output_type": "stream",
     "text": [
      "Coin Spent!\n",
      "1p Coin = Color:bronze, value:0.01, diameter(mm):20.3, thickness(mm):1.52, number of edges:1, mass(g):3.56\n",
      "5p Coin = Color:silver, value:0.05, diameter(mm):18.0, thickness(mm):1.77, number of edges:1, mass(g):3.25\n",
      "10p Coin = Color:silver, value:0.1, diameter(mm):24.5, thickness(mm):1.85, number of edges:1, mass(g):6.5\n",
      "20p Coin = Color:silver, value:0.2, diameter(mm):21.4, thickness(mm):1.7, number of edges:7, mass(g):5.0\n",
      "50p Coin = Color:silver, value:0.5, diameter(mm):27.3, thickness(mm):1.78, number of edges:7, mass(g):8.0\n",
      "£1 coin = Color:gold, value:1.0, diameter(mm):22.5, thickness(mm):3.15, number of edges:1, mass(g):9.5\n",
      "£2 coin = Color:gold & silver, value:2.0, diameter(mm):28.4, thickness(mm):2.5, number of edges:1, mass(g):12.0\n"
     ]
    }
   ],
   "source": [
    "for coin in coins:\n",
    "    arguments = [coin, coin.color, coin.value, coin.diameter, coin.thickness,\n",
    "                coin.num_edge, coin.mass]\n",
    "    \n",
    "    string = \"{} = Color:{}, value:{}, diameter(mm):{}, thickness(mm):{}, number of edges:{}, mass(g):{}\".format(*arguments)\n",
    "    print(string)"
   ]
  },
  {
   "cell_type": "markdown",
   "metadata": {},
   "source": [
    "## Project 10: Make Your Own Bank!"
   ]
  },
  {
   "cell_type": "code",
   "execution_count": 63,
   "metadata": {},
   "outputs": [],
   "source": [
    "class Account:\n",
    "    def __init__(self, name, balance, min_balance):\n",
    "        self.name = name\n",
    "        self.balance = balance\n",
    "        self.min_balance = min_balance\n",
    "        \n",
    "    def deposit(self, amount):\n",
    "        self.balance += amount\n",
    "        \n",
    "    def withdraw(self, amount):\n",
    "        if self.balance - amount >= self.min_balance:\n",
    "            self.balance -= amount\n",
    "        else:\n",
    "            print(\"Sorry, not enough funds!\")\n",
    "            \n",
    "    def statement(self):\n",
    "        print(\"Account Balance: £{}\".format(self.balance))"
   ]
  },
  {
   "cell_type": "code",
   "execution_count": 68,
   "metadata": {},
   "outputs": [],
   "source": [
    "class Current(Account):\n",
    "    def __init__(self, name, balance):\n",
    "        super().__init__(name, balance, min_balance =-1000)\n",
    "\n",
    "    def __str__(self):\n",
    "        return \"{}'s Current Account : Balance £{}\".format(self.name, self.balance)"
   ]
  },
  {
   "cell_type": "code",
   "execution_count": 72,
   "metadata": {},
   "outputs": [],
   "source": [
    "class Savings(Account):\n",
    "    def __init__(self, name, balance):\n",
    "        super().__init__(name, balance, min_balance = 0)\n",
    "        \n",
    "    def __str__(self):\n",
    "        return \"{}'s Savings Account : Balance £{}\".format(self.name, self.balance)"
   ]
  },
  {
   "cell_type": "code",
   "execution_count": 70,
   "metadata": {},
   "outputs": [
    {
     "name": "stdout",
     "output_type": "stream",
     "text": [
      "Ziyad's Current Account : Balance £500\n"
     ]
    }
   ],
   "source": [
    "Z = Current(\"Ziyad\", 500)\n",
    "print(Z)"
   ]
  },
  {
   "cell_type": "code",
   "execution_count": 74,
   "metadata": {},
   "outputs": [
    {
     "name": "stdout",
     "output_type": "stream",
     "text": [
      "Tom's Savings Account : Balance £300\n"
     ]
    }
   ],
   "source": [
    "T = Savings(\"Tom\", 300)\n",
    "print(T)"
   ]
  },
  {
   "cell_type": "code",
   "execution_count": 76,
   "metadata": {
    "scrolled": true
   },
   "outputs": [
    {
     "name": "stdout",
     "output_type": "stream",
     "text": [
      "Sorry, not enough funds!\n"
     ]
    },
    {
     "data": {
      "text/plain": [
       "<bound method Account.statement of <__main__.Savings object at 0x0000021BB1011A48>>"
      ]
     },
     "execution_count": 76,
     "metadata": {},
     "output_type": "execute_result"
    }
   ],
   "source": [
    "T.withdraw(300)\n",
    "T.statement"
   ]
  }
 ],
 "metadata": {
  "kernelspec": {
   "display_name": "Python 3",
   "language": "python",
   "name": "python3"
  },
  "language_info": {
   "codemirror_mode": {
    "name": "ipython",
    "version": 3
   },
   "file_extension": ".py",
   "mimetype": "text/x-python",
   "name": "python",
   "nbconvert_exporter": "python",
   "pygments_lexer": "ipython3",
   "version": "3.7.6"
  },
  "toc": {
   "base_numbering": 1,
   "nav_menu": {},
   "number_sections": true,
   "sideBar": true,
   "skip_h1_title": false,
   "title_cell": "Table of Contents",
   "title_sidebar": "Contents",
   "toc_cell": false,
   "toc_position": {
    "height": "calc(100% - 180px)",
    "left": "10px",
    "top": "150px",
    "width": "307.2px"
   },
   "toc_section_display": true,
   "toc_window_display": true
  }
 },
 "nbformat": 4,
 "nbformat_minor": 4
}
