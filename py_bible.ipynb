{
 "cells": [
  {
   "cell_type": "markdown",
   "metadata": {},
   "source": [
    "## Intro"
   ]
  },
  {
   "cell_type": "markdown",
   "metadata": {},
   "source": [
    "This notebook is used to work on mini projects found throughout the [Python Bible](https://www.udemy.com/course/the-python-bible/) udemy course"
   ]
  },
  {
   "cell_type": "markdown",
   "metadata": {},
   "source": [
    "## Project 2: Hello You!"
   ]
  },
  {
   "cell_type": "code",
   "execution_count": 2,
   "metadata": {},
   "outputs": [
    {
     "name": "stdout",
     "output_type": "stream",
     "text": [
      "What is your name?: Eric\n",
      "What is you age?: 24\n",
      "What city do you live in?: Warsaw\n",
      "What do you enjoy doing?: mountain biking\n",
      "Your name is Eric and you are 24 years old. You live in Warsaw and you love mountain biking\n"
     ]
    }
   ],
   "source": [
    "#Ask user for name\n",
    "name = input(\"What is your name?: \")\n",
    "\n",
    "#Ask user for age\n",
    "age = input(\"What is you age?: \")\n",
    "\n",
    "#Ask user for city\n",
    "city = input(\"What city do you live in?: \")\n",
    "\n",
    "#Ask user what they enjoy\n",
    "enjoy = input(\"What do you enjoy doing?: \")\n",
    "              \n",
    "#Create output text\n",
    "string = \"Your name is {} and you are {} years old. You live in {} and you love {}\"\n",
    "output = string.format(name, age, city, enjoy)\n",
    "\n",
    "#Print ouput to screen\n",
    "print(output)"
   ]
  },
  {
   "cell_type": "markdown",
   "metadata": {},
   "source": [
    "## Project 3: Email Slicer"
   ]
  },
  {
   "cell_type": "markdown",
   "metadata": {},
   "source": [
    "### Slice practice"
   ]
  },
  {
   "cell_type": "code",
   "execution_count": 5,
   "metadata": {},
   "outputs": [
    {
     "data": {
      "text/plain": [
       "'p'"
      ]
     },
     "execution_count": 5,
     "metadata": {},
     "output_type": "execute_result"
    }
   ],
   "source": [
    "word = 'supercalifragilisticexpialidocious'\n",
    "word[2]"
   ]
  },
  {
   "cell_type": "code",
   "execution_count": 4,
   "metadata": {},
   "outputs": [
    {
     "data": {
      "text/plain": [
       "'supercalifragilisticexpialidocious'"
      ]
     },
     "execution_count": 4,
     "metadata": {},
     "output_type": "execute_result"
    }
   ],
   "source": [
    "word"
   ]
  },
  {
   "cell_type": "code",
   "execution_count": 6,
   "metadata": {},
   "outputs": [
    {
     "data": {
      "text/plain": [
       "'super'"
      ]
     },
     "execution_count": 6,
     "metadata": {},
     "output_type": "execute_result"
    }
   ],
   "source": [
    "#var[start : end : step]\n",
    "word[0:5:1]"
   ]
  },
  {
   "cell_type": "code",
   "execution_count": 10,
   "metadata": {},
   "outputs": [
    {
     "data": {
      "text/plain": [
       "'clfaiitcxildcos'"
      ]
     },
     "execution_count": 10,
     "metadata": {},
     "output_type": "execute_result"
    }
   ],
   "source": [
    "word[5::2]"
   ]
  },
  {
   "cell_type": "code",
   "execution_count": 16,
   "metadata": {
    "scrolled": true
   },
   "outputs": [
    {
     "data": {
      "text/plain": [
       "'supercal'"
      ]
     },
     "execution_count": 16,
     "metadata": {},
     "output_type": "execute_result"
    }
   ],
   "source": [
    "word[:8]"
   ]
  },
  {
   "cell_type": "code",
   "execution_count": 17,
   "metadata": {
    "scrolled": true
   },
   "outputs": [
    {
     "data": {
      "text/plain": [
       "'suoicodilaipxecitsiligarfilacrepus'"
      ]
     },
     "execution_count": 17,
     "metadata": {},
     "output_type": "execute_result"
    }
   ],
   "source": [
    "word[::-1]"
   ]
  },
  {
   "cell_type": "code",
   "execution_count": 21,
   "metadata": {},
   "outputs": [
    {
     "name": "stdout",
     "output_type": "stream",
     "text": [
      "establishment\n"
     ]
    }
   ],
   "source": [
    "#Slice out'establishment' from the word\n",
    "vocab = 'antidisestablishmentarianism'\n",
    "answer = vocab[vocab.index('establishment'):vocab.index('ari')]\n",
    "print(answer)"
   ]
  },
  {
   "cell_type": "markdown",
   "metadata": {},
   "source": [
    "### Email"
   ]
  },
  {
   "cell_type": "code",
   "execution_count": 22,
   "metadata": {
    "scrolled": true
   },
   "outputs": [
    {
     "name": "stdout",
     "output_type": "stream",
     "text": [
      "What is your email address?: pythonking@codemaster.com\n",
      "Your username is pythonking and your domain name is codemaster.com\n"
     ]
    }
   ],
   "source": [
    "#get user email address\n",
    "email = input(\"What is your email address?: \").strip()\n",
    "\n",
    "#slice out user name\n",
    "user = email[:email.index('@')]\n",
    "\n",
    "#slice domain name\n",
    "domain = email[email.index('@') + 1:]\n",
    "\n",
    "#format message\n",
    "output = 'Your username is {} and your domain name is {}'.format(user, domain)\n",
    "\n",
    "#display output message\n",
    "print(output)"
   ]
  },
  {
   "cell_type": "markdown",
   "metadata": {},
   "source": [
    "## Project 4: Travis the Ridiculous Security System"
   ]
  },
  {
   "cell_type": "code",
   "execution_count": 6,
   "metadata": {
    "scrolled": true
   },
   "outputs": [
    {
     "name": "stdout",
     "output_type": "stream",
     "text": [
      "8\n"
     ]
    }
   ],
   "source": [
    "known_users = ['Alice', 'Bob', 'Claire', 'Dan', 'Emma', 'Fred', 'Georgie', 'Harry']\n",
    "print(len(known_users))"
   ]
  },
  {
   "cell_type": "code",
   "execution_count": null,
   "metadata": {},
   "outputs": [],
   "source": [
    "# while True:\n",
    "#     print('Hi! My name is Travis')\n",
    "#     name = input('What is your name?:').strip().capitalize()\n",
    "    \n",
    "#     if name in known_users:\n",
    "#         print('Hello {}!'.format(name))\n",
    "#         remove = input('Would you like to be removed from the system (y/n)?:').lower()\n",
    "              \n",
    "#         if remove == 'y':\n",
    "#             known_users.remove(name)\n",
    "#         elif remove == 'n':\n",
    "#             print(\"No problem, I didn't want you to leave anyway\")\n",
    "            \n",
    "#     else:\n",
    "#         print(\"Hmmm I don't think I have met you yet {}\".format(name))\n",
    "#         add_me = input(\"Would you like to be added to the system (y/n)?: \").strip().lower()\n",
    "        \n",
    "#         if add_me == 'y':\n",
    "#             known_users.append(name)\n",
    "#         elif add_me == 'n':\n",
    "#             print(\"No worries, see you around!\")\n",
    "            "
   ]
  },
  {
   "cell_type": "markdown",
   "metadata": {},
   "source": [
    "## Project 5: Cinema Simulator!"
   ]
  },
  {
   "cell_type": "code",
   "execution_count": 1,
   "metadata": {},
   "outputs": [],
   "source": [
    "films = {\"Finding Dory\": [3,5],\n",
    "        \"Bourne\": [18, 5],\n",
    "        \"Tarzan\":[15,5],\n",
    "        \"Ghost Busters\":[12,5]}"
   ]
  },
  {
   "cell_type": "code",
   "execution_count": 8,
   "metadata": {},
   "outputs": [],
   "source": [
    "# while True:\n",
    "    \n",
    "#     choice = input(\"What film would you like to watch?: \").strip().title()\n",
    "    \n",
    "#     if choice in films:\n",
    "#         age = int(input(\"How old are you?: \").strip())\n",
    "        \n",
    "#         #Check user age\n",
    "#         if age >= films[choice][0]:\n",
    "#             #Check enough seats\n",
    "        \n",
    "#             num_seats = films[choice][1]\n",
    "        \n",
    "#             if num_seats > 0:\n",
    "#                 print(\"Enjoy the film!\")\n",
    "#                 films[choice][1] = films[choice][1] - 1\n",
    "#             else:\n",
    "#                 print(\"Sorry, we are sold out!\")\n",
    "#         else:\n",
    "#             print(\"You are too young to watch the film!\")\n",
    "#     else: \n",
    "#         print(\"We don't have that film...\")"
   ]
  },
  {
   "cell_type": "markdown",
   "metadata": {},
   "source": [
    "## Project 6: Baby Conversation Simulator"
   ]
  },
  {
   "cell_type": "markdown",
   "metadata": {},
   "source": [
    "## Project 7: Pig Latin Translator"
   ]
  },
  {
   "cell_type": "markdown",
   "metadata": {},
   "source": [
    "## Project 8: Tic Tac Toes Game!"
   ]
  },
  {
   "cell_type": "markdown",
   "metadata": {},
   "source": [
    "## Project 9: Make Your Own Coin!"
   ]
  },
  {
   "cell_type": "markdown",
   "metadata": {},
   "source": [
    "## Project 10: Make All The Coins!!"
   ]
  },
  {
   "cell_type": "markdown",
   "metadata": {},
   "source": [
    "## Project 11: Make Your Own Bank!"
   ]
  },
  {
   "cell_type": "code",
   "execution_count": null,
   "metadata": {},
   "outputs": [],
   "source": []
  }
 ],
 "metadata": {
  "kernelspec": {
   "display_name": "Python 3",
   "language": "python",
   "name": "python3"
  },
  "language_info": {
   "codemirror_mode": {
    "name": "ipython",
    "version": 3
   },
   "file_extension": ".py",
   "mimetype": "text/x-python",
   "name": "python",
   "nbconvert_exporter": "python",
   "pygments_lexer": "ipython3",
   "version": "3.7.6"
  },
  "toc": {
   "base_numbering": 1,
   "nav_menu": {},
   "number_sections": true,
   "sideBar": true,
   "skip_h1_title": false,
   "title_cell": "Table of Contents",
   "title_sidebar": "Contents",
   "toc_cell": false,
   "toc_position": {},
   "toc_section_display": true,
   "toc_window_display": true
  }
 },
 "nbformat": 4,
 "nbformat_minor": 4
}
